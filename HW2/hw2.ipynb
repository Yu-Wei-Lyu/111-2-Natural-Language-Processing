{
 "cells": [
  {
   "cell_type": "code",
   "execution_count": 101,
   "metadata": {},
   "outputs": [
    {
     "name": "stdout",
     "output_type": "stream",
     "text": [
      "Precision： 0.31587421831397666\n",
      "Recall： 0.3030997482671406\n",
      "F1-score： 0.27508725938925777\n",
      "Accuracy： 0.8741522230595328\n"
     ]
    }
   ],
   "source": [
    "import nltk\n",
    "from nltk.classify import NaiveBayesClassifier\n",
    "from nltk.metrics import *\n",
    "from sklearn.metrics import *\n",
    "import gensim\n",
    "\n",
    "def read_conll_file(file_name):\n",
    "    current_item = []\n",
    "    for file in file_name:\n",
    "        with open(file, encoding='utf-8') as conll:\n",
    "            for line in conll:\n",
    "                line = line.strip()\n",
    "                if line and len(line.split()) == 2:\n",
    "                    word, tag_class = line.split()\n",
    "                    current_item.append((word, tag_class))\n",
    "    return current_item\n",
    "\n",
    "def word2Sentence(train_files):\n",
    "    sentences = []\n",
    "    for file in train_files:\n",
    "        with open(file, 'r', encoding='utf-8') as f:\n",
    "            for line in f:\n",
    "                if line and len(line.split()) == 2:\n",
    "                    word, tag_class = line.split()\n",
    "                    sentences.append(word)\n",
    "    return sentences\n",
    "\n",
    "def word2vec_feats(words):\n",
    "    feats = {}\n",
    "    for word in words:\n",
    "        if word in word2VecModel.wv:\n",
    "            feats[word] = tuple(word2VecModel.wv[word])\n",
    "    return feats\n",
    "\n",
    "train_files = ['a.conll', 'b.conll', 'f.conll', 'g.conll', 'h.conll']\n",
    "test_file = ['e.conll']\n",
    "\n",
    "sentences = word2Sentence(train_files)\n",
    "word2VecModel = gensim.models.Word2Vec(sentences, vector_size=100, window=7, min_count=5, workers=4)\n",
    "\n",
    "train_set = [(word2vec_feats(words), tag_classes) for (words, tag_classes) in read_conll_file(train_files)]\n",
    "test_set = [(word2vec_feats(words), tag_classes) for (words, tag_classes) in read_conll_file(test_file)]\n",
    "\n",
    "classifier = nltk.NaiveBayesClassifier.train(train_set)\n",
    "test_predict = []\n",
    "testing = []\n",
    "for item in test_set:\n",
    "    test_predict.append(classifier.classify(item[0]))\n",
    "    testing.append(item[1])\n",
    "\n",
    "precision = precision_score(testing, test_predict, average='macro', zero_division=0)\n",
    "recall = recall_score(testing, test_predict, average='macro')\n",
    "f1 = f1_score(testing, test_predict, average='macro')\n",
    "accuracy = nltk.classify.accuracy(classifier, test_set)\n",
    "\n",
    "print(f'Precision： {precision}')\n",
    "print(f'Recall： {recall}')\n",
    "print(f'F1-score： {f1}')\n",
    "print(f'Accuracy： {accuracy}')"
   ]
  }
 ],
 "metadata": {
  "kernelspec": {
   "display_name": "Python 3",
   "language": "python",
   "name": "python3"
  },
  "language_info": {
   "codemirror_mode": {
    "name": "ipython",
    "version": 3
   },
   "file_extension": ".py",
   "mimetype": "text/x-python",
   "name": "python",
   "nbconvert_exporter": "python",
   "pygments_lexer": "ipython3",
   "version": "3.10.11"
  },
  "orig_nbformat": 4
 },
 "nbformat": 4,
 "nbformat_minor": 2
}
